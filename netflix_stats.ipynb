{
 "cells": [
  {
   "cell_type": "markdown",
   "id": "4c319a52",
   "metadata": {},
   "source": [
    "# Netflix Stats"
   ]
  },
  {
   "cell_type": "markdown",
   "id": "cc900ac2",
   "metadata": {},
   "source": [
    "A quick analysis of my Netflix viewing history.\n",
    "\n",
    "Netflix viewing history is available from \"Viewing activity\" under the required profile at https://www.netflix.com/YourAccount and can be downloaded as a csv."
   ]
  },
  {
   "cell_type": "markdown",
   "id": "7cb246a1",
   "metadata": {},
   "source": [
    "#### Import required packages"
   ]
  },
  {
   "cell_type": "code",
   "execution_count": 1,
   "id": "a0bb199a",
   "metadata": {},
   "outputs": [],
   "source": [
    "import pandas as pd\n",
    "\n",
    "import datetime\n",
    "from datetime import datetime"
   ]
  },
  {
   "cell_type": "markdown",
   "id": "feae3e47",
   "metadata": {},
   "source": [
    "#### Import data"
   ]
  },
  {
   "cell_type": "code",
   "execution_count": 2,
   "id": "5d481030",
   "metadata": {},
   "outputs": [],
   "source": [
    "netflix = pd.read_csv('NetflixViewingHistory.csv')"
   ]
  },
  {
   "cell_type": "code",
   "execution_count": 3,
   "id": "a3842656",
   "metadata": {},
   "outputs": [
    {
     "data": {
      "text/html": [
       "<div>\n",
       "<style scoped>\n",
       "    .dataframe tbody tr th:only-of-type {\n",
       "        vertical-align: middle;\n",
       "    }\n",
       "\n",
       "    .dataframe tbody tr th {\n",
       "        vertical-align: top;\n",
       "    }\n",
       "\n",
       "    .dataframe thead th {\n",
       "        text-align: right;\n",
       "    }\n",
       "</style>\n",
       "<table border=\"1\" class=\"dataframe\">\n",
       "  <thead>\n",
       "    <tr style=\"text-align: right;\">\n",
       "      <th></th>\n",
       "      <th>Title</th>\n",
       "      <th>Date</th>\n",
       "    </tr>\n",
       "  </thead>\n",
       "  <tbody>\n",
       "    <tr>\n",
       "      <th>0</th>\n",
       "      <td>The SpongeBob SquarePants Movie</td>\n",
       "      <td>01/01/2022</td>\n",
       "    </tr>\n",
       "    <tr>\n",
       "      <th>1</th>\n",
       "      <td>Black Mirror: Season 4: USS Callister</td>\n",
       "      <td>16/12/2021</td>\n",
       "    </tr>\n",
       "    <tr>\n",
       "      <th>2</th>\n",
       "      <td>The Amazing Spider-Man 2</td>\n",
       "      <td>14/12/2021</td>\n",
       "    </tr>\n",
       "    <tr>\n",
       "      <th>3</th>\n",
       "      <td>The Amazing Spider-Man</td>\n",
       "      <td>13/12/2021</td>\n",
       "    </tr>\n",
       "    <tr>\n",
       "      <th>4</th>\n",
       "      <td>Black Mirror: Season 3: Men Against Fire</td>\n",
       "      <td>04/12/2021</td>\n",
       "    </tr>\n",
       "  </tbody>\n",
       "</table>\n",
       "</div>"
      ],
      "text/plain": [
       "                                      Title        Date\n",
       "0           The SpongeBob SquarePants Movie  01/01/2022\n",
       "1     Black Mirror: Season 4: USS Callister  16/12/2021\n",
       "2                  The Amazing Spider-Man 2  14/12/2021\n",
       "3                    The Amazing Spider-Man  13/12/2021\n",
       "4  Black Mirror: Season 3: Men Against Fire  04/12/2021"
      ]
     },
     "execution_count": 3,
     "metadata": {},
     "output_type": "execute_result"
    }
   ],
   "source": [
    "netflix.head()"
   ]
  },
  {
   "cell_type": "markdown",
   "id": "c0bb0992",
   "metadata": {},
   "source": [
    "#### Format date correctly"
   ]
  },
  {
   "cell_type": "code",
   "execution_count": 4,
   "id": "d65d8f3b",
   "metadata": {},
   "outputs": [],
   "source": [
    "netflix['Date'] =  pd.to_datetime(netflix['Date'], format = \"%d/%m/%Y\")"
   ]
  },
  {
   "cell_type": "code",
   "execution_count": 5,
   "id": "95bb0f0c",
   "metadata": {},
   "outputs": [
    {
     "data": {
      "text/html": [
       "<div>\n",
       "<style scoped>\n",
       "    .dataframe tbody tr th:only-of-type {\n",
       "        vertical-align: middle;\n",
       "    }\n",
       "\n",
       "    .dataframe tbody tr th {\n",
       "        vertical-align: top;\n",
       "    }\n",
       "\n",
       "    .dataframe thead th {\n",
       "        text-align: right;\n",
       "    }\n",
       "</style>\n",
       "<table border=\"1\" class=\"dataframe\">\n",
       "  <thead>\n",
       "    <tr style=\"text-align: right;\">\n",
       "      <th></th>\n",
       "      <th>Title</th>\n",
       "      <th>Date</th>\n",
       "    </tr>\n",
       "  </thead>\n",
       "  <tbody>\n",
       "    <tr>\n",
       "      <th>0</th>\n",
       "      <td>The SpongeBob SquarePants Movie</td>\n",
       "      <td>2022-01-01</td>\n",
       "    </tr>\n",
       "    <tr>\n",
       "      <th>1</th>\n",
       "      <td>Black Mirror: Season 4: USS Callister</td>\n",
       "      <td>2021-12-16</td>\n",
       "    </tr>\n",
       "    <tr>\n",
       "      <th>2</th>\n",
       "      <td>The Amazing Spider-Man 2</td>\n",
       "      <td>2021-12-14</td>\n",
       "    </tr>\n",
       "    <tr>\n",
       "      <th>3</th>\n",
       "      <td>The Amazing Spider-Man</td>\n",
       "      <td>2021-12-13</td>\n",
       "    </tr>\n",
       "    <tr>\n",
       "      <th>4</th>\n",
       "      <td>Black Mirror: Season 3: Men Against Fire</td>\n",
       "      <td>2021-12-04</td>\n",
       "    </tr>\n",
       "  </tbody>\n",
       "</table>\n",
       "</div>"
      ],
      "text/plain": [
       "                                      Title       Date\n",
       "0           The SpongeBob SquarePants Movie 2022-01-01\n",
       "1     Black Mirror: Season 4: USS Callister 2021-12-16\n",
       "2                  The Amazing Spider-Man 2 2021-12-14\n",
       "3                    The Amazing Spider-Man 2021-12-13\n",
       "4  Black Mirror: Season 3: Men Against Fire 2021-12-04"
      ]
     },
     "execution_count": 5,
     "metadata": {},
     "output_type": "execute_result"
    }
   ],
   "source": [
    "netflix.head()"
   ]
  },
  {
   "cell_type": "markdown",
   "id": "9324c1a8",
   "metadata": {},
   "source": [
    "#### Plot total number of items watched by month"
   ]
  },
  {
   "cell_type": "markdown",
   "id": "bcc3d8e7",
   "metadata": {},
   "source": [
    "(I watched pretty much the whole of How I Met Your Mother in January 2019)"
   ]
  },
  {
   "cell_type": "code",
   "execution_count": 10,
   "id": "e06c5119",
   "metadata": {},
   "outputs": [
    {
     "data": {
      "text/plain": [
       "<AxesSubplot:xlabel='Date'>"
      ]
     },
     "execution_count": 10,
     "metadata": {},
     "output_type": "execute_result"
    },
    {
     "data": {
      "image/png": "[encoded data removed]",
      "text/plain": [
       "<Figure size 432x288 with 1 Axes>"
      ]
     },
     "metadata": {
      "needs_background": "light"
     },
     "output_type": "display_data"
    }
   ],
   "source": [
    "monthly = netflix.groupby(pd.Grouper(key='Date',freq='M')).count()\n",
    "monthly.plot()"
   ]
  },
  {
   "cell_type": "code",
   "execution_count": 9,
   "id": "de49e040",
   "metadata": {},
   "outputs": [
    {
     "data": {
      "text/plain": [
       "<AxesSubplot:xlabel='Date'>"
      ]
     },
     "execution_count": 9,
     "metadata": {},
     "output_type": "execute_result"
    },
    {
     "data": {
      "image/png": "[encoded data removed]",
      "text/plain": [
       "<Figure size 432x288 with 1 Axes>"
      ]
     },
     "metadata": {
      "needs_background": "light"
     },
     "output_type": "display_data"
    }
   ],
   "source": [
    "yearly = netflix.groupby(pd.Grouper(key='Date',freq='Y')).count()\n",
    "yearly.plot()"
   ]
  },
  {
   "cell_type": "markdown",
   "id": "98d766d2",
   "metadata": {},
   "source": [
    "Further Netflix data is available from the account page - have requested mine and will update this soon."
   ]
  }
 ],
 "metadata": {
  "kernelspec": {
   "display_name": "Python 3 (ipykernel)",
   "language": "python",
   "name": "python3"
  },
  "language_info": {
   "codemirror_mode": {
    "name": "ipython",
    "version": 3
   },
   "file_extension": ".py",
   "mimetype": "text/x-python",
   "name": "python",
   "nbconvert_exporter": "python",
   "pygments_lexer": "ipython3",
   "version": "3.8.12"
  }
 },
 "nbformat": 4,
 "nbformat_minor": 5
}
